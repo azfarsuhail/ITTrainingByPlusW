{
  "nbformat": 4,
  "nbformat_minor": 0,
  "metadata": {
    "colab": {
      "provenance": []
    },
    "kernelspec": {
      "name": "python3",
      "display_name": "Python 3"
    },
    "language_info": {
      "name": "python"
    }
  },
  "cells": [
    {
      "cell_type": "markdown",
      "source": [
        "# Class 3"
      ],
      "metadata": {
        "id": "VS2z9h-K3ey4"
      }
    },
    {
      "cell_type": "markdown",
      "source": [
        "* If and else statements"
      ],
      "metadata": {
        "id": "gbDvW8BL4tU9"
      }
    },
    {
      "cell_type": "code",
      "execution_count": 2,
      "metadata": {
        "colab": {
          "base_uri": "https://localhost:8080/"
        },
        "id": "QPq40IHS3abf",
        "outputId": "f531423a-eabf-4c01-f706-731709ad2192"
      },
      "outputs": [
        {
          "output_type": "stream",
          "name": "stdout",
          "text": [
            "You are eligible to vote\n"
          ]
        }
      ],
      "source": [
        "age = 18\n",
        "if age < 18:\n",
        "  print(\"You are not eligible to vote\")"
      ]
    },
    {
      "cell_type": "code",
      "source": [
        "num = 11\n",
        "if num % 2 == 0:\n",
        "  print(\"Even number\")\n",
        "else:\n",
        "  print(\"Odd number\")"
      ],
      "metadata": {
        "colab": {
          "base_uri": "https://localhost:8080/"
        },
        "id": "o4LQcYsq3vbv",
        "outputId": "9672b56b-02cd-48ec-b673-843ae6489f55"
      },
      "execution_count": 5,
      "outputs": [
        {
          "output_type": "stream",
          "name": "stdout",
          "text": [
            "Odd number\n"
          ]
        }
      ]
    },
    {
      "cell_type": "code",
      "source": [
        "marks = 85\n",
        "if marks >= 90:\n",
        "  print(\"Grade A\")\n",
        "elif marks >= 80:\n",
        "  print(\"Grade B\")\n",
        "elif marks >= 70:\n",
        "  print(\"Grade C\")\n",
        "elif marks >= 60:\n",
        "  print(\"Grade D\")"
      ],
      "metadata": {
        "colab": {
          "base_uri": "https://localhost:8080/"
        },
        "id": "N6VI-9kI38Dz",
        "outputId": "aac046c7-9f76-415d-fc2d-2849777062cc"
      },
      "execution_count": 6,
      "outputs": [
        {
          "output_type": "stream",
          "name": "stdout",
          "text": [
            "Grade B\n"
          ]
        }
      ]
    },
    {
      "cell_type": "code",
      "source": [
        "num = 15\n",
        "if num > 10:\n",
        "  if num % 2 == 0:\n",
        "    print(\"Even number greater then 10\")\n",
        "  else:\n",
        "    print(\"Odd number greater then 10\")\n",
        ""
      ],
      "metadata": {
        "colab": {
          "base_uri": "https://localhost:8080/"
        },
        "id": "XJrS1epQ4C4X",
        "outputId": "0df2aadc-3ca8-43fd-9227-d0d2513cb85c"
      },
      "execution_count": 7,
      "outputs": [
        {
          "output_type": "stream",
          "name": "stdout",
          "text": [
            "Odd number greater then 10\n"
          ]
        }
      ]
    },
    {
      "cell_type": "code",
      "source": [
        "is_adult = True\n",
        "has_voter_id = False\n",
        "if is_adult and has_voter_id:\n",
        "  print(\"You are eligible to vote\")\n",
        "else:\n",
        "  print(\"You are not eligible to vote\")"
      ],
      "metadata": {
        "colab": {
          "base_uri": "https://localhost:8080/"
        },
        "id": "DSE6LjpA4QxC",
        "outputId": "655e6990-bcbf-4bf2-f143-2e7cc0c792cb"
      },
      "execution_count": 8,
      "outputs": [
        {
          "output_type": "stream",
          "name": "stdout",
          "text": [
            "You are not eligible to vote\n"
          ]
        }
      ]
    },
    {
      "cell_type": "code",
      "source": [
        "age = 28\n",
        "\n",
        "message = \"Adult\" if age >= 18 else \"Minor\"\n",
        "print(message)"
      ],
      "metadata": {
        "colab": {
          "base_uri": "https://localhost:8080/"
        },
        "id": "2u6xXNDv4bG8",
        "outputId": "413f0e82-d947-4ef0-ccd1-6cae48ddf39c"
      },
      "execution_count": 9,
      "outputs": [
        {
          "output_type": "stream",
          "name": "stdout",
          "text": [
            "Adult\n"
          ]
        }
      ]
    },
    {
      "cell_type": "markdown",
      "source": [
        "* Match Case"
      ],
      "metadata": {
        "id": "-HyPkhnY4qmR"
      }
    },
    {
      "cell_type": "code",
      "source": [
        "color = \"yellow\"\n",
        "\n",
        "match color:\n",
        "  case \"red\":\n",
        "    print(\"Stop\")\n",
        "  case \"yellow\":\n",
        "    print(\"Get Ready\")\n",
        "  case \"green\":\n",
        "    print(\"Go\")\n",
        "  case _:\n",
        "    print(\"Invalid color\")"
      ],
      "metadata": {
        "colab": {
          "base_uri": "https://localhost:8080/"
        },
        "id": "j5K93UoD4xrD",
        "outputId": "32e5cab1-5ead-472a-d155-af27a3c0b794"
      },
      "execution_count": 12,
      "outputs": [
        {
          "output_type": "stream",
          "name": "stdout",
          "text": [
            "Stop\n"
          ]
        }
      ]
    },
    {
      "cell_type": "markdown",
      "source": [
        "* Iterating over a list"
      ],
      "metadata": {
        "id": "hvQozfPD5akN"
      }
    },
    {
      "cell_type": "code",
      "source": [
        "fruits = [\"apple\",\"banana\",\"cherry\",\"orange\"]\n",
        "\n",
        "for fruit in fruits:\n",
        "  print(fruit)\n",
        ""
      ],
      "metadata": {
        "colab": {
          "base_uri": "https://localhost:8080/"
        },
        "id": "lOhYtRZO5ZiQ",
        "outputId": "9398feda-a758-4cf5-b8a3-1b81476f695f"
      },
      "execution_count": 14,
      "outputs": [
        {
          "output_type": "stream",
          "name": "stdout",
          "text": [
            "apple\n",
            "banana\n",
            "cherry\n",
            "orange\n"
          ]
        }
      ]
    },
    {
      "cell_type": "markdown",
      "source": [
        "* Iterating over a string"
      ],
      "metadata": {
        "id": "zk_jCYGq5yud"
      }
    },
    {
      "cell_type": "code",
      "source": [
        "for char in \"PlusW\":\n",
        "  print(char)"
      ],
      "metadata": {
        "colab": {
          "base_uri": "https://localhost:8080/"
        },
        "id": "tMUOfLlS52NV",
        "outputId": "5025cbc2-4f2b-4dc4-d0ab-38de475624e4"
      },
      "execution_count": 20,
      "outputs": [
        {
          "output_type": "stream",
          "name": "stdout",
          "text": [
            "P\n",
            "l\n",
            "u\n",
            "s\n",
            "W\n"
          ]
        }
      ]
    },
    {
      "cell_type": "markdown",
      "source": [
        "* Iterating over a dictionary"
      ],
      "metadata": {
        "id": "uJkw645T6HV2"
      }
    },
    {
      "cell_type": "code",
      "source": [
        "person = {\"Name\":\"Azfar\",\"Age\":22,\"City\":\"Karachi\",\"Gender\":\"Male\",\"Program\":\"BSCS\"}\n",
        "\n",
        "for key,value in person.items():\n",
        "  print(f\"{key} : {value}\")"
      ],
      "metadata": {
        "colab": {
          "base_uri": "https://localhost:8080/"
        },
        "id": "2-YLGdqy6MKG",
        "outputId": "7eb10a77-f3ed-444a-fe3a-013164865e9b"
      },
      "execution_count": 21,
      "outputs": [
        {
          "output_type": "stream",
          "name": "stdout",
          "text": [
            "Name : Azfar\n",
            "Age : 22\n",
            "City : Karachi\n",
            "Gender : Male\n",
            "Program : BSCS\n"
          ]
        }
      ]
    },
    {
      "cell_type": "markdown",
      "source": [
        "* Iterating over a range of numbers"
      ],
      "metadata": {
        "id": "_lS4h2ql617u"
      }
    },
    {
      "cell_type": "code",
      "source": [
        "for i in range(10):\n",
        "  print(i)"
      ],
      "metadata": {
        "colab": {
          "base_uri": "https://localhost:8080/"
        },
        "id": "VMugNtXM66Cd",
        "outputId": "0bda8570-3a06-4525-e1b9-14b3550dd1c6"
      },
      "execution_count": 22,
      "outputs": [
        {
          "output_type": "stream",
          "name": "stdout",
          "text": [
            "0\n",
            "1\n",
            "2\n",
            "3\n",
            "4\n",
            "5\n",
            "6\n",
            "7\n",
            "8\n",
            "9\n"
          ]
        }
      ]
    },
    {
      "cell_type": "markdown",
      "source": [
        "* Custom range with start , stop and step"
      ],
      "metadata": {
        "id": "CGoB3wB-7Svo"
      }
    },
    {
      "cell_type": "code",
      "source": [
        "for i in range(1,10,3):\n",
        "  print(i)"
      ],
      "metadata": {
        "colab": {
          "base_uri": "https://localhost:8080/"
        },
        "id": "0A8gpivu7iXy",
        "outputId": "6c203101-6b95-4d6b-ef66-3b8b38b089e9"
      },
      "execution_count": 24,
      "outputs": [
        {
          "output_type": "stream",
          "name": "stdout",
          "text": [
            "1\n",
            "4\n",
            "7\n"
          ]
        }
      ]
    },
    {
      "cell_type": "code",
      "source": [
        "count = 0\n",
        "while count < 5:\n",
        "  print(f\"Count : {count}\")\n",
        "  count += 1\n",
        "  print(f\"After increment : {count}\")"
      ],
      "metadata": {
        "colab": {
          "base_uri": "https://localhost:8080/"
        },
        "id": "CzsehmTM793A",
        "outputId": "393a6571-5232-4730-b90c-237aea028f9a"
      },
      "execution_count": 27,
      "outputs": [
        {
          "output_type": "stream",
          "name": "stdout",
          "text": [
            "Count : 0\n",
            "After increment : 1\n",
            "Count : 1\n",
            "After increment : 2\n",
            "Count : 2\n",
            "After increment : 3\n",
            "Count : 3\n",
            "After increment : 4\n",
            "Count : 4\n",
            "After increment : 5\n"
          ]
        }
      ]
    },
    {
      "cell_type": "markdown",
      "source": [
        "* Infinte Loops and Breaking Conditions"
      ],
      "metadata": {
        "id": "X-krM7LG8ZuU"
      }
    },
    {
      "cell_type": "code",
      "source": [
        "while True:\n",
        "  user_input = input(\"Enter 'quit' to exit :\")\n",
        "  if user_input.lower() == 'quit':\n",
        "    print(\"Exiting Loop\")\n",
        "    break"
      ],
      "metadata": {
        "colab": {
          "base_uri": "https://localhost:8080/"
        },
        "id": "ZAEY9-IF8dhQ",
        "outputId": "829b3095-1f8d-4170-ad9f-ece38176c363"
      },
      "execution_count": 28,
      "outputs": [
        {
          "output_type": "stream",
          "name": "stdout",
          "text": [
            "Enter 'quit' to exit :2\n",
            "Enter 'quit' to exit :quit\n",
            "Exiting Loop\n"
          ]
        }
      ]
    },
    {
      "cell_type": "markdown",
      "source": [
        "Break Statement , Continue Statement and pass Statement Loop Control Statement"
      ],
      "metadata": {
        "id": "maLLwBaJ87aP"
      }
    },
    {
      "cell_type": "code",
      "source": [
        "for i in range(10):\n",
        "  if i == 5:\n",
        "    print(\"Breaking Loop\")\n",
        "    break\n",
        "  print(i)"
      ],
      "metadata": {
        "colab": {
          "base_uri": "https://localhost:8080/"
        },
        "id": "pCdmhqFJ9IPA",
        "outputId": "b0e15ea7-6618-40c4-b705-f06cc5888670"
      },
      "execution_count": 29,
      "outputs": [
        {
          "output_type": "stream",
          "name": "stdout",
          "text": [
            "0\n",
            "1\n",
            "2\n",
            "3\n",
            "4\n",
            "Breaking Loop\n"
          ]
        }
      ]
    },
    {
      "cell_type": "code",
      "source": [
        "for i in range(10):\n",
        "  if i % 2 != 0:\n",
        "    continue\n",
        "  print(i)"
      ],
      "metadata": {
        "colab": {
          "base_uri": "https://localhost:8080/"
        },
        "id": "9hLmOwgC9fVM",
        "outputId": "27510501-c731-4f31-8402-cd29062321e3"
      },
      "execution_count": 31,
      "outputs": [
        {
          "output_type": "stream",
          "name": "stdout",
          "text": [
            "0\n",
            "2\n",
            "4\n",
            "6\n",
            "8\n"
          ]
        }
      ]
    },
    {
      "cell_type": "code",
      "source": [
        "for i in range(5):\n",
        "  print (f\"Processing {i}\")\n",
        "  if i == 3:\n",
        "    pass # Placeholder\n",
        "    print (f\"Processing {i}\")"
      ],
      "metadata": {
        "colab": {
          "base_uri": "https://localhost:8080/"
        },
        "id": "lPfAknsW9vjF",
        "outputId": "91e861ad-84ef-4e66-d643-c1dd529a77a5"
      },
      "execution_count": 34,
      "outputs": [
        {
          "output_type": "stream",
          "name": "stdout",
          "text": [
            "Processing 0\n",
            "Processing 1\n",
            "Processing 2\n",
            "Processing 3\n",
            "Processing 3\n",
            "Processing 4\n"
          ]
        }
      ]
    },
    {
      "cell_type": "markdown",
      "source": [
        "* Looping inside loop"
      ],
      "metadata": {
        "id": "hSBwjKLW-VZ4"
      }
    },
    {
      "cell_type": "code",
      "source": [
        "for i in range(3):\n",
        "  for j in range(2):\n",
        "    for h in range(2):\n",
        "      print(f\" i = {i} | j = {j} | h = {h}\")"
      ],
      "metadata": {
        "colab": {
          "base_uri": "https://localhost:8080/"
        },
        "id": "Zr72-9V4-Y6V",
        "outputId": "75381bfa-bc84-4d5a-dfbb-ea8450a7345b"
      },
      "execution_count": 38,
      "outputs": [
        {
          "output_type": "stream",
          "name": "stdout",
          "text": [
            " i = 0 | j = 0 | h = 0\n",
            " i = 0 | j = 0 | h = 1\n",
            " i = 0 | j = 1 | h = 0\n",
            " i = 0 | j = 1 | h = 1\n",
            " i = 1 | j = 0 | h = 0\n",
            " i = 1 | j = 0 | h = 1\n",
            " i = 1 | j = 1 | h = 0\n",
            " i = 1 | j = 1 | h = 1\n",
            " i = 2 | j = 0 | h = 0\n",
            " i = 2 | j = 0 | h = 1\n",
            " i = 2 | j = 1 | h = 0\n",
            " i = 2 | j = 1 | h = 1\n"
          ]
        }
      ]
    },
    {
      "cell_type": "markdown",
      "source": [
        "* Practical Example: Multiplication"
      ],
      "metadata": {
        "id": "jElHGpJj-p0O"
      }
    },
    {
      "cell_type": "code",
      "source": [
        "for i in range(1,10):\n",
        "  for j in range(1,4):\n",
        "    print(f\"{i} x {j} = {i*j}\")\n",
        "  print(\"==========\")"
      ],
      "metadata": {
        "colab": {
          "base_uri": "https://localhost:8080/"
        },
        "id": "7P0YMOD6-t9J",
        "outputId": "17436189-f638-4d6f-84e8-cf615ae00cd8"
      },
      "execution_count": 46,
      "outputs": [
        {
          "output_type": "stream",
          "name": "stdout",
          "text": [
            "1 x 1 = 1\n",
            "1 x 2 = 2\n",
            "1 x 3 = 3\n",
            "==========\n",
            "2 x 1 = 2\n",
            "2 x 2 = 4\n",
            "2 x 3 = 6\n",
            "==========\n",
            "3 x 1 = 3\n",
            "3 x 2 = 6\n",
            "3 x 3 = 9\n",
            "==========\n",
            "4 x 1 = 4\n",
            "4 x 2 = 8\n",
            "4 x 3 = 12\n",
            "==========\n",
            "5 x 1 = 5\n",
            "5 x 2 = 10\n",
            "5 x 3 = 15\n",
            "==========\n",
            "6 x 1 = 6\n",
            "6 x 2 = 12\n",
            "6 x 3 = 18\n",
            "==========\n",
            "7 x 1 = 7\n",
            "7 x 2 = 14\n",
            "7 x 3 = 21\n",
            "==========\n",
            "8 x 1 = 8\n",
            "8 x 2 = 16\n",
            "8 x 3 = 24\n",
            "==========\n",
            "9 x 1 = 9\n",
            "9 x 2 = 18\n",
            "9 x 3 = 27\n",
            "==========\n"
          ]
        }
      ]
    },
    {
      "cell_type": "markdown",
      "source": [
        "* Using else with loops"
      ],
      "metadata": {
        "id": "JHig8fne_pSX"
      }
    },
    {
      "cell_type": "code",
      "source": [
        "for num in range(5):\n",
        "  print(num)\n",
        "else:\n",
        "  print(\"Loop Completed Successfully\")"
      ],
      "metadata": {
        "colab": {
          "base_uri": "https://localhost:8080/"
        },
        "id": "Jy229gJ1_rZ0",
        "outputId": "64900951-5beb-441f-9383-8457ae13b67c"
      },
      "execution_count": 50,
      "outputs": [
        {
          "output_type": "stream",
          "name": "stdout",
          "text": [
            "0\n",
            "1\n",
            "2\n",
            "3\n",
            "4\n",
            "Loop Completed Successfully\n"
          ]
        }
      ]
    },
    {
      "cell_type": "code",
      "source": [
        "for num in range(5):\n",
        "  if num == 3:\n",
        "    print(\"Breaking the loop\")\n",
        "    break\n",
        "  print(num)\n",
        "\n",
        "else:\n",
        "  print(\"Loop completed without breaking\")"
      ],
      "metadata": {
        "colab": {
          "base_uri": "https://localhost:8080/"
        },
        "id": "jbZMLchk_unX",
        "outputId": "16170851-df3b-461a-df9e-29d23ed8d75e"
      },
      "execution_count": 51,
      "outputs": [
        {
          "output_type": "stream",
          "name": "stdout",
          "text": [
            "0\n",
            "1\n",
            "2\n",
            "Breaking the loop\n"
          ]
        }
      ]
    },
    {
      "cell_type": "code",
      "source": [
        "nums = [1,2,3,4,5]\n",
        "search = 3\n",
        "for num in nums:\n",
        "  if num == search:\n",
        "    print(f\"{search} Found in the list\")\n",
        "    break\n",
        "else:\n",
        "  print(f\"{search} Not Found in the list\")"
      ],
      "metadata": {
        "colab": {
          "base_uri": "https://localhost:8080/"
        },
        "id": "FO_J6lJuASs-",
        "outputId": "dbd0ba7f-babd-41ca-db9d-379b3357e3b5"
      },
      "execution_count": 53,
      "outputs": [
        {
          "output_type": "stream",
          "name": "stdout",
          "text": [
            "3 Found in the list\n"
          ]
        }
      ]
    },
    {
      "cell_type": "markdown",
      "source": [
        "* Functions"
      ],
      "metadata": {
        "id": "HEsvaCZdAilw"
      }
    },
    {
      "cell_type": "code",
      "source": [
        "def greet():\n",
        "  print(\"Hello Python\")"
      ],
      "metadata": {
        "id": "m30gxoMHAiM5"
      },
      "execution_count": 57,
      "outputs": []
    },
    {
      "cell_type": "code",
      "source": [
        "def greet_user(name):\n",
        "  print(f\"Hello {name}\")"
      ],
      "metadata": {
        "id": "QTw0bgJOAotv"
      },
      "execution_count": 56,
      "outputs": []
    },
    {
      "cell_type": "code",
      "source": [
        "greet()"
      ],
      "metadata": {
        "colab": {
          "base_uri": "https://localhost:8080/"
        },
        "id": "MA4taKiwAwUb",
        "outputId": "575d1323-d033-498f-8fdb-1924d93dbce4"
      },
      "execution_count": 58,
      "outputs": [
        {
          "output_type": "stream",
          "name": "stdout",
          "text": [
            "Hello Python\n"
          ]
        }
      ]
    },
    {
      "cell_type": "code",
      "source": [
        "greet_user(\"azfar\")"
      ],
      "metadata": {
        "colab": {
          "base_uri": "https://localhost:8080/"
        },
        "id": "5S2tjYVYA14H",
        "outputId": "f8c5f771-4164-4938-e3fc-7a13edf285b2"
      },
      "execution_count": 61,
      "outputs": [
        {
          "output_type": "stream",
          "name": "stdout",
          "text": [
            "Hello azfar\n"
          ]
        }
      ]
    },
    {
      "cell_type": "code",
      "source": [
        "def add(a,b):\n",
        "  return a+b\n",
        "def display_info(name,age):\n",
        "  return(f\"Name : {name} | Age : {age}\")"
      ],
      "metadata": {
        "id": "vBUZOyMDBJWo"
      },
      "execution_count": 70,
      "outputs": []
    },
    {
      "cell_type": "code",
      "source": [
        "print(add(5,10))"
      ],
      "metadata": {
        "colab": {
          "base_uri": "https://localhost:8080/"
        },
        "id": "UULLplsQBVs1",
        "outputId": "0038614b-267a-4da6-9f81-2f99a4488b4e"
      },
      "execution_count": 67,
      "outputs": [
        {
          "output_type": "stream",
          "name": "stdout",
          "text": [
            "15\n"
          ]
        }
      ]
    },
    {
      "cell_type": "code",
      "source": [
        "print(display_info(\"Azfar\",22))"
      ],
      "metadata": {
        "colab": {
          "base_uri": "https://localhost:8080/"
        },
        "id": "Cf83ETVMBocO",
        "outputId": "3a5b70e4-eaf7-451c-e36b-3003459bc550"
      },
      "execution_count": 71,
      "outputs": [
        {
          "output_type": "stream",
          "name": "stdout",
          "text": [
            "Name : Azfar | Age : 22\n"
          ]
        }
      ]
    },
    {
      "cell_type": "code",
      "source": [
        "def calculate(a,b):\n",
        "  return a+b , a-b"
      ],
      "metadata": {
        "id": "ly44OAd3ByNQ"
      },
      "execution_count": 73,
      "outputs": []
    },
    {
      "cell_type": "code",
      "source": [
        "sum , diff = calculate(10,20)\n",
        "print(f\"Sum : {sum} | Diff : {diff}\")\n"
      ],
      "metadata": {
        "colab": {
          "base_uri": "https://localhost:8080/"
        },
        "id": "hb6nVanLB_u8",
        "outputId": "2d8295e7-3fed-46b0-d2bc-8096b21a3267"
      },
      "execution_count": 75,
      "outputs": [
        {
          "output_type": "stream",
          "name": "stdout",
          "text": [
            "Sum : 30 | Diff : -10\n"
          ]
        }
      ]
    },
    {
      "cell_type": "code",
      "source": [
        "def greet(name , greeting):\n",
        "  return f\"{greeting} {name}\"\n",
        "\n",
        "print(greet(greeting = \"Hello\",name = \"Azfar\"))"
      ],
      "metadata": {
        "colab": {
          "base_uri": "https://localhost:8080/"
        },
        "id": "NZxlkHlqCLqI",
        "outputId": "5c1d9b7a-4eb1-4e5e-b8fd-f9b4834226f1"
      },
      "execution_count": 76,
      "outputs": [
        {
          "output_type": "stream",
          "name": "stdout",
          "text": [
            "Hello Azfar\n"
          ]
        }
      ]
    },
    {
      "cell_type": "code",
      "source": [
        "def greet(name = \"Ali\", greeting = \"Hey\"):\n",
        "  return f\"{greeting} {name} !!!\"\n",
        "\n",
        "print(greet(greeting = \"Hello\",name = \"Azfar\"))\n",
        "print(greet( \"Azfar\"))\n",
        "print(greet())\n"
      ],
      "metadata": {
        "colab": {
          "base_uri": "https://localhost:8080/"
        },
        "id": "Gx5ZquWCCre2",
        "outputId": "c2a4d9de-abb9-4ca0-9420-eef34337e05a"
      },
      "execution_count": 84,
      "outputs": [
        {
          "output_type": "stream",
          "name": "stdout",
          "text": [
            "Hello Azfar !!!\n",
            "Hey Azfar !!!\n",
            "Hey Ali !!!\n"
          ]
        }
      ]
    },
    {
      "cell_type": "markdown",
      "source": [
        "* Arbitary Arguments"
      ],
      "metadata": {
        "id": "0Ml-B3KvDGwP"
      }
    },
    {
      "cell_type": "code",
      "source": [
        "def print_arg(*args):\n",
        "  for arg in args:\n",
        "    print(arg)\n",
        "\n",
        "print_arg(1,2,3,4,5,6,7,8,9)"
      ],
      "metadata": {
        "colab": {
          "base_uri": "https://localhost:8080/"
        },
        "id": "fR9JCDbuDFiG",
        "outputId": "9037c42c-ccba-41bb-e277-8ca058b6987d"
      },
      "execution_count": 85,
      "outputs": [
        {
          "output_type": "stream",
          "name": "stdout",
          "text": [
            "1\n",
            "2\n",
            "3\n",
            "4\n",
            "5\n",
            "6\n",
            "7\n",
            "8\n",
            "9\n"
          ]
        }
      ]
    },
    {
      "cell_type": "code",
      "source": [
        "def print_kvargs(**kvargs):\n",
        "  for key, value in kvargs.items():\n",
        "    print(f\"{key} : {value}\")\n",
        "\n",
        "print_kvargs(name = \"Azfar\", age = 22, city = \"Karachi\")\n"
      ],
      "metadata": {
        "colab": {
          "base_uri": "https://localhost:8080/"
        },
        "id": "MpCQjhMEDX46",
        "outputId": "8b5c6b1e-f56b-4501-a89b-0db38fa2fcfb"
      },
      "execution_count": 89,
      "outputs": [
        {
          "output_type": "stream",
          "name": "stdout",
          "text": [
            "name : Azfar\n",
            "age : 22\n",
            "city : Karachi\n"
          ]
        }
      ]
    },
    {
      "cell_type": "markdown",
      "source": [
        "* Lamda function"
      ],
      "metadata": {
        "id": "G-4clp_iD46D"
      }
    },
    {
      "cell_type": "code",
      "source": [
        "square = lambda x : x**2\n",
        "print(square(10))\n"
      ],
      "metadata": {
        "colab": {
          "base_uri": "https://localhost:8080/"
        },
        "id": "bEk8FZTfD4g5",
        "outputId": "6a167c5e-3644-4c49-e747-6768db6e5b01"
      },
      "execution_count": 91,
      "outputs": [
        {
          "output_type": "stream",
          "name": "stdout",
          "text": [
            "100\n"
          ]
        }
      ]
    }
  ]
}