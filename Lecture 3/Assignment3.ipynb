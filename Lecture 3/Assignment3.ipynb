{
  "nbformat": 4,
  "nbformat_minor": 0,
  "metadata": {
    "colab": {
      "provenance": []
    },
    "kernelspec": {
      "name": "python3",
      "display_name": "Python 3"
    },
    "language_info": {
      "name": "python"
    }
  },
  "cells": [
    {
      "cell_type": "markdown",
      "source": [
        "# Assignment 3"
      ],
      "metadata": {
        "id": "XgE_-pJ0QAfl"
      }
    },
    {
      "cell_type": "markdown",
      "source": [
        "1. Implement a to-do list application where users can add,\n",
        "remove, and view tasks"
      ],
      "metadata": {
        "id": "ggiPCY3jQE-x"
      }
    },
    {
      "cell_type": "code",
      "execution_count": 14,
      "metadata": {
        "id": "gc1GxXvEP8Tc"
      },
      "outputs": [],
      "source": [
        "tasks= []"
      ]
    },
    {
      "cell_type": "code",
      "source": [
        "def add_task(task):\n",
        "  tasks.append(task)\n",
        "\n",
        "def remove_task(task):\n",
        "  if task in tasks:\n",
        "    tasks.remove(task)\n",
        "    view_tasks()\n",
        "  else:\n",
        "    print(\"Task not found\")\n",
        "\n",
        "def view_tasks():\n",
        "  for task in tasks:\n",
        "    print(task)"
      ],
      "metadata": {
        "id": "7AnqKpLMQULT"
      },
      "execution_count": 13,
      "outputs": []
    },
    {
      "cell_type": "code",
      "source": [
        "add_task(\"Finish homework\")\n",
        "add_task(\"Buy groceries\")\n",
        "view_tasks()\n",
        "remove_task(\"Buy groceries\")"
      ],
      "metadata": {
        "colab": {
          "base_uri": "https://localhost:8080/"
        },
        "id": "CmwNDL_QQo5S",
        "outputId": "ed6ed66d-f96b-4bc2-f52b-1fba62593993"
      },
      "execution_count": 15,
      "outputs": [
        {
          "output_type": "stream",
          "name": "stdout",
          "text": [
            "Finish homework\n",
            "Buy groceries\n",
            "Finish homework\n"
          ]
        }
      ]
    },
    {
      "cell_type": "markdown",
      "source": [
        "2. Find Maximum and Minimum Values in a List\n"
      ],
      "metadata": {
        "id": "Kham0gYmRPnk"
      }
    },
    {
      "cell_type": "code",
      "source": [
        "def find_max_min(lst):\n",
        "  max_val = lst[0]\n",
        "  min_val = lst[0]\n",
        "  for num in lst:\n",
        "    if num > max_val:\n",
        "      max_val = num\n",
        "    if num < min_val:\n",
        "      min_val = num\n",
        "  return max_val, min_val\n"
      ],
      "metadata": {
        "id": "mxKPnsnrRQvi"
      },
      "execution_count": 17,
      "outputs": []
    },
    {
      "cell_type": "code",
      "source": [
        "numbers = [3, 9, 2, 8, 1]\n",
        "max_val, min_val = find_max_min(numbers)\n",
        "print(f\"Max: {max_val}, Min: {min_val}\")"
      ],
      "metadata": {
        "colab": {
          "base_uri": "https://localhost:8080/"
        },
        "id": "-NebzGR8RzgB",
        "outputId": "23f788f9-90d4-4a66-e7fd-8af8fc4bd2b0"
      },
      "execution_count": 18,
      "outputs": [
        {
          "output_type": "stream",
          "name": "stdout",
          "text": [
            "Max: 9, Min: 1\n"
          ]
        }
      ]
    },
    {
      "cell_type": "markdown",
      "source": [
        "3. Create a Simple Phonebook Using Dictionaries"
      ],
      "metadata": {
        "id": "ksKurFooR2Rp"
      }
    },
    {
      "cell_type": "code",
      "source": [
        "phonebook = {}"
      ],
      "metadata": {
        "id": "rvSJMkp6R3ep"
      },
      "execution_count": 19,
      "outputs": []
    },
    {
      "cell_type": "code",
      "source": [
        "def add_contact(name, number):\n",
        "  phonebook[name] = number\n",
        "\n",
        "def get_number(name):\n",
        "  return phonebook.get(name, \"Contact not found\")\n",
        "\n"
      ],
      "metadata": {
        "id": "2FFrhmiTR7bm"
      },
      "execution_count": 20,
      "outputs": []
    },
    {
      "cell_type": "code",
      "source": [
        "add_contact(\"Alice\", \"1234567890\")\n",
        "add_contact(\"Bob\", \"9876543210\")\n",
        "print(get_number(\"Alice\"))"
      ],
      "metadata": {
        "colab": {
          "base_uri": "https://localhost:8080/"
        },
        "id": "iKs98G4sSIlW",
        "outputId": "194736f6-7c82-4ddb-972a-1f93742b802e"
      },
      "execution_count": 21,
      "outputs": [
        {
          "output_type": "stream",
          "name": "stdout",
          "text": [
            "1234567890\n"
          ]
        }
      ]
    },
    {
      "cell_type": "markdown",
      "source": [
        "3. Inventory System (Using Dictionaries)"
      ],
      "metadata": {
        "id": "k5_iyZVqSM2L"
      }
    },
    {
      "cell_type": "code",
      "source": [
        "inventory = {}"
      ],
      "metadata": {
        "id": "YDQzOc0dSNxR"
      },
      "execution_count": 29,
      "outputs": []
    },
    {
      "cell_type": "code",
      "source": [
        "def add_item(item, quantity):\n",
        "  if item in inventory:\n",
        "    inventory[item] += quantity\n",
        "  else:\n",
        "    inventory[item] = quantity\n",
        "\n",
        "def remove_item(item, quantity):\n",
        "  if item in inventory and inventory[item] >= quantity:\n",
        "    inventory[item] -= quantity\n",
        "  elif inventory[item] == 0:\n",
        "    del inventory[item]\n",
        "  else:\n",
        "    print(f\"Insufficient quantity of {item}.\")\n",
        "\n",
        "def view_inventory():\n",
        "  for item, quantity in inventory.items():\n",
        "    print(f\"{item}: {quantity}\")"
      ],
      "metadata": {
        "id": "nKimNqbfSTGc"
      },
      "execution_count": 30,
      "outputs": []
    },
    {
      "cell_type": "code",
      "source": [
        "add_item(\"Apple\", 10)\n",
        "add_item(\"Banana\", 5)\n",
        "remove_item(\"Apple\", 3)\n",
        "view_inventory()"
      ],
      "metadata": {
        "colab": {
          "base_uri": "https://localhost:8080/"
        },
        "id": "Q4GgUo_nS462",
        "outputId": "68da0b04-7280-46da-afe2-ab878769d6dc"
      },
      "execution_count": 31,
      "outputs": [
        {
          "output_type": "stream",
          "name": "stdout",
          "text": [
            "Apple: 7\n",
            "Banana: 5\n"
          ]
        }
      ]
    },
    {
      "cell_type": "markdown",
      "source": [
        "3. ATM System Simulation with Global Variables\n"
      ],
      "metadata": {
        "id": "5tgD284TTY5R"
      }
    },
    {
      "cell_type": "code",
      "source": [
        "def deposit(balance, amount):\n",
        "  balance += amount\n",
        "  print(f\"Deposited: {amount}. New balance: {balance}\")\n",
        "  return balance # Return the updated balance\n",
        "\n",
        "def withdraw(balance, amount):\n",
        "  if amount <= balance:\n",
        "    balance -= amount\n",
        "    print(f\"Withdrew: {amount}. New balance: {balance}\")\n",
        "  else:\n",
        "    print(\"Insufficient funds\")\n",
        "  return balance # Return the updated balance\n",
        "\n",
        "def check_balance(balance):\n",
        "  print(f\"Current balance: {balance}\")\n",
        "\n",
        "# Example usage\n",
        "balance = 1000 # Initial balance\n",
        "balance = deposit(balance, 500) # Deposit money\n",
        "balance = withdraw(balance, 200) # Withdraw money\n",
        "check_balance(balance) # Check balance\n"
      ],
      "metadata": {
        "colab": {
          "base_uri": "https://localhost:8080/"
        },
        "id": "Ionh7QdATZ6S",
        "outputId": "2974aa0d-593a-4257-d942-9c89a20d926f"
      },
      "execution_count": 35,
      "outputs": [
        {
          "output_type": "stream",
          "name": "stdout",
          "text": [
            "Deposited: 500. New balance: 1500\n",
            "Withdrew: 200. New balance: 1300\n",
            "Current balance: 1300\n"
          ]
        }
      ]
    }
  ]
}