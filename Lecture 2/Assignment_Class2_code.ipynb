{
  "nbformat": 4,
  "nbformat_minor": 0,
  "metadata": {
    "colab": {
      "provenance": []
    },
    "kernelspec": {
      "name": "python3",
      "display_name": "Python 3"
    },
    "language_info": {
      "name": "python"
    }
  },
  "cells": [
    {
      "cell_type": "markdown",
      "source": [
        "# Assignment 2"
      ],
      "metadata": {
        "id": "OdZ7BMj5mT1i"
      }
    },
    {
      "cell_type": "markdown",
      "source": [
        "### **Name Formatter and Length Calculator**"
      ],
      "metadata": {
        "id": "sxjWK1REmb5B"
      }
    },
    {
      "cell_type": "code",
      "execution_count": 1,
      "metadata": {
        "colab": {
          "base_uri": "https://localhost:8080/"
        },
        "id": "GXCfZicomTHe",
        "outputId": "8029f551-c306-4045-96c9-fa86f5ce0da9"
      },
      "outputs": [
        {
          "output_type": "stream",
          "name": "stdout",
          "text": [
            "Enter your first name: Azfar\n",
            "Enter your last name: Suhail\n",
            "First name (upper): AZFAR\n",
            "Last name (lower): suhail\n",
            "Sum of letters in your first and last name: 11\n"
          ]
        }
      ],
      "source": [
        "# Input first and last name\n",
        "first_name = input(\"Enter your first name: \")\n",
        "last_name = input(\"Enter your last name: \")\n",
        "\n",
        "# Convert first name to uppercase and last name to lowercase\n",
        "first_name = first_name.upper()\n",
        "last_name = last_name.lower()\n",
        "\n",
        "# Calculate and print the sum of the letters\n",
        "total_letters = len(first_name) + len(last_name)\n",
        "\n",
        "# Print the results\n",
        "print(f\"First name (upper): {first_name}\")\n",
        "print(f\"Last name (lower): {last_name}\")\n",
        "print(\"Sum of letters in your first and last name:\", total_letters)\n"
      ]
    },
    {
      "cell_type": "markdown",
      "source": [
        "### **Simple Area Calculator for Various Shapes**"
      ],
      "metadata": {
        "id": "qtu9CV0cmvJr"
      }
    },
    {
      "cell_type": "code",
      "source": [
        "import math\n",
        "\n",
        "# Display shape options\n",
        "print(\"Calculate the area of the following shapes:\")\n",
        "print(\"1. Circle\")\n",
        "print(\"2. Rectangle\")\n",
        "print(\"3. Square\")\n",
        "print(\"4. Triangle\")\n",
        "\n",
        "# Input user choice\n",
        "shape = input(\"Enter the shape you want to calculate: \").lower()\n",
        "\n",
        "# Circle Area Calculation\n",
        "if shape == \"circle\":\n",
        "    radius = float(input(\"Enter the radius of the circle: \"))\n",
        "    area = math.pi * radius ** 2\n",
        "    print(\"The area of the circle is:\", area)\n",
        "\n",
        "# Rectangle Area Calculation\n",
        "elif shape == \"rectangle\":\n",
        "    length = float(input(\"Enter the length of the rectangle: \"))\n",
        "    width = float(input(\"Enter the width of the rectangle: \"))\n",
        "    area = length * width\n",
        "    print(\"The area of the rectangle is:\", area)\n",
        "\n",
        "# Square Area Calculation\n",
        "elif shape == \"square\":\n",
        "    side = float(input(\"Enter the side length of the square: \"))\n",
        "    area = side ** 2\n",
        "    print(\"The area of the square is:\", area)\n",
        "\n",
        "# Triangle Area Calculation\n",
        "elif shape == \"triangle\":\n",
        "    base = float(input(\"Enter the base of the triangle: \"))\n",
        "    height = float(input(\"Enter the height of the triangle: \"))\n",
        "    area = 0.5 * base * height\n",
        "    print(\"The area of the triangle is:\", area)\n",
        "\n",
        "else:\n",
        "    print(\"Invalid shape choice.\")\n"
      ],
      "metadata": {
        "colab": {
          "base_uri": "https://localhost:8080/"
        },
        "id": "SG0Gl0-JmyYE",
        "outputId": "cf5ca0bf-d343-42d8-f29a-c13cedd9eebe"
      },
      "execution_count": 3,
      "outputs": [
        {
          "output_type": "stream",
          "name": "stdout",
          "text": [
            "Calculate the area of the following shapes:\n",
            "1. Circle\n",
            "2. Rectangle\n",
            "3. Square\n",
            "4. Triangle\n",
            "Enter the shape you want to calculate: circle\n",
            "Enter the radius of the circle: 10\n",
            "The area of the circle is: 314.1592653589793\n"
          ]
        }
      ]
    },
    {
      "cell_type": "markdown",
      "source": [
        "### **Random Color-Based Password Generator in Python**\n"
      ],
      "metadata": {
        "id": "GPUnjLH0nAkE"
      }
    },
    {
      "cell_type": "code",
      "source": [
        "import random\n",
        "\n",
        "# Define a list of colors\n",
        "colors = [\"red\", \"blue\", \"green\", \"yellow\", \"orange\", \"purple\"]\n",
        "\n",
        "# Generate a random index\n",
        "index = random.randint(0, len(colors) - 1)\n",
        "\n",
        "# Select a random color\n",
        "selected_color = colors[index]\n",
        "\n",
        "# Reverse the selected color for the password\n",
        "password = selected_color[::-1]\n",
        "\n",
        "# Print the results\n",
        "print(\"Selected Color:\", selected_color)\n",
        "print(\"Generated Password:\", password)\n"
      ],
      "metadata": {
        "colab": {
          "base_uri": "https://localhost:8080/"
        },
        "id": "53AxVu4Gm_bd",
        "outputId": "6bbf8ba7-5579-49f8-e6d1-ae697194bbd5"
      },
      "execution_count": 5,
      "outputs": [
        {
          "output_type": "stream",
          "name": "stdout",
          "text": [
            "Selected Color: yellow\n",
            "Generated Password: wolley\n"
          ]
        }
      ]
    }
  ]
}