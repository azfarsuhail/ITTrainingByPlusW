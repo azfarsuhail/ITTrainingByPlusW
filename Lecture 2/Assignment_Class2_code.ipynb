{
  "nbformat": 4,
  "nbformat_minor": 0,
  "metadata": {
    "colab": {
      "provenance": []
    },
    "kernelspec": {
      "name": "python3",
      "display_name": "Python 3"
    },
    "language_info": {
      "name": "python"
    }
  },
  "cells": [
    {
      "cell_type": "markdown",
      "source": [
        "# Assignment 2"
      ],
      "metadata": {
        "id": "OdZ7BMj5mT1i"
      }
    },
    {
      "cell_type": "markdown",
      "source": [
        "### **Name Formatter and Length Calculator**"
      ],
      "metadata": {
        "id": "sxjWK1REmb5B"
      }
    },
    {
      "cell_type": "code",
      "execution_count": 1,
      "metadata": {
        "colab": {
          "base_uri": "https://localhost:8080/"
        },
        "id": "GXCfZicomTHe",
        "outputId": "8029f551-c306-4045-96c9-fa86f5ce0da9"
      },
      "outputs": [
        {
          "output_type": "stream",
          "name": "stdout",
          "text": [
            "Enter your first name: Azfar\n",
            "Enter your last name: Suhail\n",
            "First name (upper): AZFAR\n",
            "Last name (lower): suhail\n",
            "Sum of letters in your first and last name: 11\n"
          ]
        }
      ],
      "source": [
        "# Input first and last name\n",
        "first_name = input(\"Enter your first name: \")\n",
        "last_name = input(\"Enter your last name: \")\n",
        "\n",
        "# Convert first name to uppercase and last name to lowercase\n",
        "first_name = first_name.upper()\n",
        "last_name = last_name.lower()\n",
        "\n",
        "# Calculate and print the sum of the letters\n",
        "total_letters = len(first_name) + len(last_name)\n",
        "\n",
        "# Print the results\n",
        "print(f\"First name (upper): {first_name}\")\n",
        "print(f\"Last name (lower): {last_name}\")\n",
        "print(\"Sum of letters in your first and last name:\", total_letters)\n"
      ]
    },
    {
      "cell_type": "markdown",
      "source": [
        "### **Simple Area Calculator for Various Shapes**"
      ],
      "metadata": {
        "id": "qtu9CV0cmvJr"
      }
    },
    {
      "cell_type": "code",
      "source": [
        "print(\"Area Calculator\")\n",
        "\n",
        "\n",
        "# Circle Area Calculation\n",
        "radius = float(input(\"Enter the radius of the circle: \"))\n",
        "area = (22/7) * radius * radius\n",
        "print(\"The area of the circle is:\", area)\n",
        "\n",
        "# Rectangle Area Calculation\n",
        "length = float(input(\"Enter the length of the rectangle: \"))\n",
        "width = float(input(\"Enter the width of the rectangle: \"))\n",
        "area = length * width\n",
        "print(\"The area of the rectangle is:\", area)\n",
        "\n",
        "# Square Area Calculation\n",
        "side = float(input(\"Enter the side length of the square: \"))\n",
        "area = side ** 2\n",
        "print(\"The area of the square is:\", area)\n",
        "\n",
        "# Triangle Area Calculation\n",
        "base = float(input(\"Enter the base of the triangle: \"))\n",
        "height = float(input(\"Enter the height of the triangle: \"))\n",
        "area = 0.5 * base * height\n",
        "print(\"The area of the triangle is:\", area)\n",
        "\n"
      ],
      "metadata": {
        "colab": {
          "base_uri": "https://localhost:8080/"
        },
        "id": "SG0Gl0-JmyYE",
        "outputId": "4b83d825-5430-44a9-a8e9-6aa0e15d8969"
      },
      "execution_count": 7,
      "outputs": [
        {
          "output_type": "stream",
          "name": "stdout",
          "text": [
            "Area Calculator\n",
            "Enter the radius of the circle: 10\n",
            "The area of the circle is: 314.2857142857143\n",
            "Enter the length of the rectangle: 10\n",
            "Enter the width of the rectangle: 10\n",
            "The area of the rectangle is: 100.0\n",
            "Enter the side length of the square: 10\n",
            "The area of the square is: 100.0\n",
            "Enter the base of the triangle: 10\n",
            "Enter the height of the triangle: 10\n",
            "The area of the triangle is: 50.0\n"
          ]
        }
      ]
    },
    {
      "cell_type": "markdown",
      "source": [
        "### **Random Color-Based Password Generator in Python**\n"
      ],
      "metadata": {
        "id": "GPUnjLH0nAkE"
      }
    },
    {
      "cell_type": "code",
      "source": [
        "import random\n",
        "\n",
        "# Define a list of colors\n",
        "colors = [\"red\", \"blue\", \"green\", \"yellow\", \"orange\", \"purple\"]\n",
        "\n",
        "# Generate a random index\n",
        "index = random.randint(0, len(colors) - 1)\n",
        "\n",
        "# Select a random color\n",
        "selected_color = colors[index]\n",
        "\n",
        "# Reverse the selected color for the password\n",
        "password = selected_color[::-1]\n",
        "\n",
        "# Print the results\n",
        "print(\"Selected Color:\", selected_color)\n",
        "print(\"Generated Password:\", password)\n"
      ],
      "metadata": {
        "colab": {
          "base_uri": "https://localhost:8080/"
        },
        "id": "53AxVu4Gm_bd",
        "outputId": "6bbf8ba7-5579-49f8-e6d1-ae697194bbd5"
      },
      "execution_count": 5,
      "outputs": [
        {
          "output_type": "stream",
          "name": "stdout",
          "text": [
            "Selected Color: yellow\n",
            "Generated Password: wolley\n"
          ]
        }
      ]
    }
  ]
}