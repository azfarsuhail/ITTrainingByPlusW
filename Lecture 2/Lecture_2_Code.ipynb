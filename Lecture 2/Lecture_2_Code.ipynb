{
  "nbformat": 4,
  "nbformat_minor": 0,
  "metadata": {
    "colab": {
      "provenance": []
    },
    "kernelspec": {
      "name": "python3",
      "display_name": "Python 3"
    },
    "language_info": {
      "name": "python"
    }
  },
  "cells": [
    {
      "cell_type": "markdown",
      "source": [
        "# Second Class\n",
        "\n"
      ],
      "metadata": {
        "id": "IdEUCQx8iyBS"
      }
    },
    {
      "cell_type": "markdown",
      "source": [
        "* Indentation in Python"
      ],
      "metadata": {
        "id": "oXskJpObi8sV"
      }
    },
    {
      "cell_type": "code",
      "execution_count": 1,
      "metadata": {
        "colab": {
          "base_uri": "https://localhost:8080/"
        },
        "id": "WpPXhfGuisOC",
        "outputId": "19d98fb1-61cc-4d72-d81e-9c223ea9ff91"
      },
      "outputs": [
        {
          "output_type": "stream",
          "name": "stdout",
          "text": [
            "This is indented correctly.\n"
          ]
        }
      ],
      "source": [
        "if True:\n",
        " print(\"This is indented correctly.\") # Inside the block\n",
        "\n",
        "# Incorrect indentation will raise an error:\n",
        "# if True:\n",
        "# print(\"This will cause an IndentationError.\")"
      ]
    },
    {
      "cell_type": "markdown",
      "source": [
        "* Variable in Python"
      ],
      "metadata": {
        "id": "eNrgKP6PjK-R"
      }
    },
    {
      "cell_type": "code",
      "source": [
        "name = \"Umair\"\n",
        "age = 26\n",
        "# Constant (by convention, Python doesn't enforce immutability)\n",
        "PI = 3.14159\n",
        "print(\"Name:\", name)\n",
        "print(\"Age:\", age)\n",
        "print(\"PI:\", PI)"
      ],
      "metadata": {
        "colab": {
          "base_uri": "https://localhost:8080/"
        },
        "id": "bYmKUwNMjJRz",
        "outputId": "c47ff7f9-51df-40f4-a4ac-6daabc7f7e9a"
      },
      "execution_count": 2,
      "outputs": [
        {
          "output_type": "stream",
          "name": "stdout",
          "text": [
            "Name: Umair\n",
            "Age: 26\n",
            "PI: 3.14159\n"
          ]
        }
      ]
    },
    {
      "cell_type": "markdown",
      "source": [
        "* Input / Output in Python"
      ],
      "metadata": {
        "id": "WGreTJoDjc6M"
      }
    },
    {
      "cell_type": "code",
      "source": [
        "# Getting user input\n",
        "user_name = input(\"Enter your name: \")\n",
        "user_age = int(input(\"Enter your age: \")) # Convert input to integer\n",
        "# Displaying output\n",
        "print(\"Hello,\", user_name + \"!\")\n",
        "print(\"You are\", user_age, \"years old.\")"
      ],
      "metadata": {
        "id": "DPfQhMoJjcVH"
      },
      "execution_count": null,
      "outputs": []
    },
    {
      "cell_type": "markdown",
      "source": [
        "* Integers, Floats, and Complex Numbers in Python"
      ],
      "metadata": {
        "id": "tYVm3l4Jjtso"
      }
    },
    {
      "cell_type": "code",
      "source": [
        "# Integer\n",
        "x = 10\n",
        "print(\"Integer:\", x)\n",
        "# Float\n",
        "y = 3.14\n",
        "print(\"Float:\", y)\n",
        "# Complex number\n",
        "z = 2 + 3j\n",
        "print(\"Complex Number:\", z)\n",
        "print(\"Real part:\", z.real)\n",
        "print(\"Imaginary part:\", z.imag)"
      ],
      "metadata": {
        "id": "YWXoRI9vjrrI"
      },
      "execution_count": null,
      "outputs": []
    },
    {
      "cell_type": "markdown",
      "source": [
        "* Strings and Their Operations"
      ],
      "metadata": {
        "id": "4B_fQcLjj3Zv"
      }
    },
    {
      "cell_type": "code",
      "source": [
        "text = \"Hello, Python!\"\n",
        "# Accessing characters\n",
        "print(\"First character:\", text[0])\n",
        "print(\"Last character:\", text[-1])\n",
        "# String concatenation\n",
        "greeting = \"Hello\" + \" World!\"\n",
        "print(\"Concatenated String:\", greeting)\n",
        "# String repetition\n",
        "repeat = \"Python! \" * 3\n",
        "print(\"Repeated String:\", repeat)\n",
        "# String slicing\n",
        "print(\"Sliced String:\", text[0:5]) # Output: Hello\n",
        "# text[0:5] extracts characters from the string text starting from index 0 (the first character, H) up to (but not including) index 5 (the comma ,)\n",
        "# String methods\n",
        "print(\"Uppercase:\", text.upper())\n",
        "print(\"Lowercase:\", text.lower())\n",
        "print(\"Replace:\", text.replace(\"Python\", \"World\"))"
      ],
      "metadata": {
        "id": "wZqyPlPwj741"
      },
      "execution_count": null,
      "outputs": []
    },
    {
      "cell_type": "markdown",
      "source": [
        "* List"
      ],
      "metadata": {
        "id": "hp2nGHmKkJm2"
      }
    },
    {
      "cell_type": "code",
      "source": [
        "numbers = [1, 2, 3, 4, 5]\n",
        "print(\"List:\", numbers)\n",
        "# Accessing elements\n",
        "print(\"First element:\", numbers[0])\n",
        "# Modifying list\n",
        "numbers.append(6)\n",
        "print(\"After appending:\", numbers)\n",
        "# List slicing\n",
        "print(\"First 3 elements:\", numbers[:3]) #numbers[:3] extracts elements at indices 0, 1, and 2"
      ],
      "metadata": {
        "id": "RkIOrXqHkOKf"
      },
      "execution_count": null,
      "outputs": []
    },
    {
      "cell_type": "markdown",
      "source": [
        "* Tuples"
      ],
      "metadata": {
        "id": "K4VoRmsekUM7"
      }
    },
    {
      "cell_type": "code",
      "source": [
        "coordinates = (10, 20, 30)\n",
        "print(\"Tuple:\", coordinates)\n",
        "# Accessing elements\n",
        "print(\"Second element:\", coordinates[1])\n",
        "# Tuples are immutable, so no modification is allowed"
      ],
      "metadata": {
        "id": "sJvQeIP6kVS9"
      },
      "execution_count": null,
      "outputs": []
    },
    {
      "cell_type": "markdown",
      "source": [
        "* Sets"
      ],
      "metadata": {
        "id": "vJCb0ABSkYeZ"
      }
    },
    {
      "cell_type": "code",
      "source": [
        "unique_numbers = {1, 2, 3, 4, 5}\n",
        "print(\"Set:\", unique_numbers)\n",
        "# Adding elements\n",
        "unique_numbers.add(6)\n",
        "print(\"After adding:\", unique_numbers)\n",
        "# Sets are unordered and do not allow duplicates\n",
        "unique_numbers.add(3)\n",
        "print(\"After trying to add duplicate:\", unique_numbers)"
      ],
      "metadata": {
        "colab": {
          "base_uri": "https://localhost:8080/"
        },
        "id": "SQN4S_r7ka_o",
        "outputId": "725684c3-f61c-40d4-df45-be199f9f8640"
      },
      "execution_count": 3,
      "outputs": [
        {
          "output_type": "stream",
          "name": "stdout",
          "text": [
            "Set: {1, 2, 3, 4, 5}\n",
            "After adding: {1, 2, 3, 4, 5, 6}\n",
            "After trying to add duplicate: {1, 2, 3, 4, 5, 6}\n"
          ]
        }
      ]
    },
    {
      "cell_type": "markdown",
      "source": [
        "* Dictionaries"
      ],
      "metadata": {
        "id": "027z8Piakd0C"
      }
    },
    {
      "cell_type": "code",
      "source": [
        "student = {\"name\": \"Azfar\", \"age\": 22, \"grade\": \"A+\"}\n",
        "print(\"Dictionary:\", student)\n",
        "# Accessing values\n",
        "print(\"Name:\", student[\"name\"])\n",
        "# Modifying values\n",
        "student[\"grade\"] = \"A+\"\n",
        "print(\"Updated Dictionary:\", student)\n",
        "# Adding new key-value pairs\n",
        "student[\"subject\"] = \"Math\"\n",
        "print(\"After adding subject:\", student)"
      ],
      "metadata": {
        "colab": {
          "base_uri": "https://localhost:8080/"
        },
        "id": "10K8BJmJkfwi",
        "outputId": "bad0cad8-84ba-4a5d-bbfd-69502ba4571f"
      },
      "execution_count": 4,
      "outputs": [
        {
          "output_type": "stream",
          "name": "stdout",
          "text": [
            "Dictionary: {'name': 'Azfar', 'age': 22, 'grade': 'A+'}\n",
            "Name: Azfar\n",
            "Updated Dictionary: {'name': 'Azfar', 'age': 22, 'grade': 'A+'}\n",
            "After adding subject: {'name': 'Azfar', 'age': 22, 'grade': 'A+', 'subject': 'Math'}\n"
          ]
        }
      ]
    },
    {
      "cell_type": "markdown",
      "source": [
        "* Implicit conversion"
      ],
      "metadata": {
        "id": "lp9jaDr5kteu"
      }
    },
    {
      "cell_type": "code",
      "source": [
        "\n",
        "num1 = 10\n",
        "num2 = 10.01\n",
        "\n",
        "result  = num1 + num2\n",
        "\n",
        "print(result)\n",
        "print(type(result))"
      ],
      "metadata": {
        "id": "fs97tMIZku3a"
      },
      "execution_count": null,
      "outputs": []
    },
    {
      "cell_type": "markdown",
      "source": [
        "* Explicit conversion\n"
      ],
      "metadata": {
        "id": "WgcOIb0_k5OC"
      }
    },
    {
      "cell_type": "code",
      "source": [
        "\n",
        "\n",
        "age = \"26\"\n",
        "integer = 10\n",
        "\n",
        "age = int(age)\n",
        "# integer = str(integer)\n",
        "# float(age)\n",
        "\n",
        "print(type(age))\n",
        "\n",
        "result = age + integer\n",
        "\n",
        "print(result)"
      ],
      "metadata": {
        "id": "hskVjHw8kzL6"
      },
      "execution_count": null,
      "outputs": []
    },
    {
      "cell_type": "markdown",
      "source": [
        "* Arithmatic Operators"
      ],
      "metadata": {
        "id": "v3Susnwak95f"
      }
    },
    {
      "cell_type": "code",
      "source": [
        "num1 = 10\n",
        "num2 = 4\n",
        "\n",
        "print(\"Addition:\", num1 + num2)\n",
        "print(\"Subtraction:\", num1 - num2)\n",
        "print(\"Multiplication:\", num1 * num2)\n",
        "print(\"Division:\", num1 / num2)\n",
        "print(\"Floor Division\", num1 // num2)\n",
        "print(\"Modulus\", num1 % num2)\n",
        "print(\"Exponent\", num1 ** num2)   #num1 ^ number"
      ],
      "metadata": {
        "id": "nSvXDkQLlAQ_"
      },
      "execution_count": null,
      "outputs": []
    },
    {
      "cell_type": "markdown",
      "source": [
        "* Comparison Operation"
      ],
      "metadata": {
        "id": "4ZTTIkMslU1J"
      }
    },
    {
      "cell_type": "code",
      "source": [
        "num1 = 10\n",
        "num2 = 4\n",
        "\n",
        "print(\"Equal\", num1 == num2)\n",
        "print(\"Not Equal\", num1 != num2)\n",
        "print(\"Greater than\", num1 > num2)\n",
        "print(\"Less than\", num1 < num2)\n",
        "# print(\"Floor Division\", num1 // num2)\n",
        "# print(\"Modulus\", num1 % num2)\n",
        "# print(\"Exponent\", num1 ** num2)"
      ],
      "metadata": {
        "id": "IDP370l3lZBV"
      },
      "execution_count": null,
      "outputs": []
    },
    {
      "cell_type": "markdown",
      "source": [
        "* Logical Operators"
      ],
      "metadata": {
        "id": "yFKKK3K2lbZ5"
      }
    },
    {
      "cell_type": "code",
      "source": [
        "p = True\n",
        "q= False\n",
        "\n",
        "print(\"AND\", p and q)\n",
        "print(\"OR\", p or q)\n",
        "print(\"NOT\", not p)"
      ],
      "metadata": {
        "id": "kC1jPpnJlfKE"
      },
      "execution_count": null,
      "outputs": []
    },
    {
      "cell_type": "markdown",
      "source": [
        "* Assignment Operators"
      ],
      "metadata": {
        "id": "8oM2oKthlhwz"
      }
    },
    {
      "cell_type": "code",
      "source": [
        "a=10\n",
        "a+=5 #a=a+5\n",
        "a-=5 #a=a-5\n",
        "a*=5 #a=a*5\n",
        "a/=5 #a=a/5\n",
        "print(a)"
      ],
      "metadata": {
        "id": "SMLBTg2wlisI"
      },
      "execution_count": null,
      "outputs": []
    },
    {
      "cell_type": "markdown",
      "source": [
        "* Length Function"
      ],
      "metadata": {
        "id": "5-LU5DysmYsi"
      }
    },
    {
      "cell_type": "code",
      "source": [
        "\n",
        "sentence = \"Python\"\n",
        "print(len(sentence))"
      ],
      "metadata": {
        "id": "5Efh3stGmUo3"
      },
      "execution_count": null,
      "outputs": []
    },
    {
      "cell_type": "markdown",
      "source": [
        "* Split function"
      ],
      "metadata": {
        "id": "wlFHFTaqmgX2"
      }
    },
    {
      "cell_type": "code",
      "source": [
        "sentence = \"Python:language\"\n",
        "print(sentence.split(':'))"
      ],
      "metadata": {
        "id": "gu627hWbmjX4"
      },
      "execution_count": null,
      "outputs": []
    },
    {
      "cell_type": "markdown",
      "source": [
        "* Random function"
      ],
      "metadata": {
        "id": "5Q-q9ixgmmX7"
      }
    },
    {
      "cell_type": "code",
      "source": [
        "import random\n",
        "print(random.randint(1,10))\n",
        "\n",
        "print(random.random())\n",
        "\n",
        "print(random.randint(1,10))\n",
        "\n",
        "items = ['Apple', \"Bananas\"]\n",
        "\n",
        "print(random.choice(items))\n"
      ],
      "metadata": {
        "id": "i9X0EJyfmlkC"
      },
      "execution_count": null,
      "outputs": []
    }
  ]
}